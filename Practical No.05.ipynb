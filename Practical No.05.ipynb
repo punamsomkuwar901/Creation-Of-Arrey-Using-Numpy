{
 "cells": [
  {
   "cell_type": "markdown",
   "id": "2ba69d05",
   "metadata": {},
   "source": [
    "# Creation Of Array Using Numpy"
   ]
  },
  {
   "cell_type": "code",
   "execution_count": 1,
   "id": "71414b07",
   "metadata": {},
   "outputs": [],
   "source": [
    "# Practical No:5"
   ]
  },
  {
   "cell_type": "code",
   "execution_count": 2,
   "id": "b8f0e682",
   "metadata": {},
   "outputs": [],
   "source": [
    "#Aim:To Perform Array Creation In Numpy"
   ]
  },
  {
   "cell_type": "code",
   "execution_count": 1,
   "id": "0dea7ab1",
   "metadata": {},
   "outputs": [],
   "source": [
    "#Name: Punam S.Somkuwar\n",
    "#Roll NO.:64\n",
    "#Sec:C\n",
    "#Subject:ET-1\n",
    "#Date:9/08/2024"
   ]
  },
  {
   "cell_type": "code",
   "execution_count": 6,
   "id": "bf7344a1",
   "metadata": {},
   "outputs": [],
   "source": [
    "import numpy as np"
   ]
  },
  {
   "cell_type": "code",
   "execution_count": 7,
   "id": "81cccb39",
   "metadata": {},
   "outputs": [
    {
     "name": "stdout",
     "output_type": "stream",
     "text": [
      "[1 2 3 4 5]\n"
     ]
    }
   ],
   "source": [
    "array_1d = np.array([1,2,3,4,5])\n",
    "print(array_1d)"
   ]
  },
  {
   "cell_type": "code",
   "execution_count": 8,
   "id": "2a965707",
   "metadata": {},
   "outputs": [
    {
     "name": "stdout",
     "output_type": "stream",
     "text": [
      "[[1 2 3]\n",
      " [4 5 6]]\n"
     ]
    }
   ],
   "source": [
    "array_2d = np.array([[1,2,3],[4,5,6]])\n",
    "print(array_2d)"
   ]
  },
  {
   "cell_type": "code",
   "execution_count": 9,
   "id": "4fe7e96a",
   "metadata": {},
   "outputs": [
    {
     "name": "stdout",
     "output_type": "stream",
     "text": [
      "[[0. 0. 0.]\n",
      " [0. 0. 0.]\n",
      " [0. 0. 0.]]\n"
     ]
    }
   ],
   "source": [
    "zeros_array = np.zeros((3,3)) \n",
    "print(zeros_array)"
   ]
  },
  {
   "cell_type": "code",
   "execution_count": 10,
   "id": "abe55b05",
   "metadata": {},
   "outputs": [
    {
     "name": "stdout",
     "output_type": "stream",
     "text": [
      "[[1. 1. 1. 1.]\n",
      " [1. 1. 1. 1.]]\n"
     ]
    }
   ],
   "source": [
    "ones_array = np.ones((2,4))\n",
    "print(ones_array)"
   ]
  },
  {
   "cell_type": "code",
   "execution_count": 11,
   "id": "2cf743dd",
   "metadata": {},
   "outputs": [
    {
     "name": "stdout",
     "output_type": "stream",
     "text": [
      "[0 2 4 6 8]\n"
     ]
    }
   ],
   "source": [
    "#Start,Stop,Step\n",
    "range_array =np.arange(0,10,2)\n",
    "print(range_array)"
   ]
  },
  {
   "cell_type": "code",
   "execution_count": null,
   "id": "748ee8a8",
   "metadata": {},
   "outputs": [],
   "source": []
  }
 ],
 "metadata": {
  "kernelspec": {
   "display_name": "Python 3 (ipykernel)",
   "language": "python",
   "name": "python3"
  },
  "language_info": {
   "codemirror_mode": {
    "name": "ipython",
    "version": 3
   },
   "file_extension": ".py",
   "mimetype": "text/x-python",
   "name": "python",
   "nbconvert_exporter": "python",
   "pygments_lexer": "ipython3",
   "version": "3.11.5"
  }
 },
 "nbformat": 4,
 "nbformat_minor": 5
}
